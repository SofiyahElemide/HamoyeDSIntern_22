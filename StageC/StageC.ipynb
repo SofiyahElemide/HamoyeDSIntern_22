{
 "cells": [
  {
   "cell_type": "code",
   "execution_count": 1,
   "id": "618ac74b-b365-4147-bf58-0bb3fb4c09fb",
   "metadata": {},
   "outputs": [],
   "source": [
    "# import libraries\n",
    "import pandas as pd\n",
    "import numpy as np\n",
    "import matplotlib.pyplot as plt\n",
    "import seaborn as sns"
   ]
  },
  {
   "cell_type": "code",
   "execution_count": 2,
   "id": "ad665de5-e53c-4c04-8eaf-ae7c89a02452",
   "metadata": {},
   "outputs": [
    {
     "data": {
      "text/html": [
       "<div>\n",
       "<style scoped>\n",
       "    .dataframe tbody tr th:only-of-type {\n",
       "        vertical-align: middle;\n",
       "    }\n",
       "\n",
       "    .dataframe tbody tr th {\n",
       "        vertical-align: top;\n",
       "    }\n",
       "\n",
       "    .dataframe thead th {\n",
       "        text-align: right;\n",
       "    }\n",
       "</style>\n",
       "<table border=\"1\" class=\"dataframe\">\n",
       "  <thead>\n",
       "    <tr style=\"text-align: right;\">\n",
       "      <th></th>\n",
       "      <th>tau1</th>\n",
       "      <th>tau2</th>\n",
       "      <th>tau3</th>\n",
       "      <th>tau4</th>\n",
       "      <th>p1</th>\n",
       "      <th>p2</th>\n",
       "      <th>p3</th>\n",
       "      <th>p4</th>\n",
       "      <th>g1</th>\n",
       "      <th>g2</th>\n",
       "      <th>g3</th>\n",
       "      <th>g4</th>\n",
       "      <th>stab</th>\n",
       "      <th>stabf</th>\n",
       "    </tr>\n",
       "  </thead>\n",
       "  <tbody>\n",
       "    <tr>\n",
       "      <th>0</th>\n",
       "      <td>2.959060</td>\n",
       "      <td>3.079885</td>\n",
       "      <td>8.381025</td>\n",
       "      <td>9.780754</td>\n",
       "      <td>3.763085</td>\n",
       "      <td>-0.782604</td>\n",
       "      <td>-1.257395</td>\n",
       "      <td>-1.723086</td>\n",
       "      <td>0.650456</td>\n",
       "      <td>0.859578</td>\n",
       "      <td>0.887445</td>\n",
       "      <td>0.958034</td>\n",
       "      <td>0.055347</td>\n",
       "      <td>unstable</td>\n",
       "    </tr>\n",
       "    <tr>\n",
       "      <th>1</th>\n",
       "      <td>9.304097</td>\n",
       "      <td>4.902524</td>\n",
       "      <td>3.047541</td>\n",
       "      <td>1.369357</td>\n",
       "      <td>5.067812</td>\n",
       "      <td>-1.940058</td>\n",
       "      <td>-1.872742</td>\n",
       "      <td>-1.255012</td>\n",
       "      <td>0.413441</td>\n",
       "      <td>0.862414</td>\n",
       "      <td>0.562139</td>\n",
       "      <td>0.781760</td>\n",
       "      <td>-0.005957</td>\n",
       "      <td>stable</td>\n",
       "    </tr>\n",
       "    <tr>\n",
       "      <th>2</th>\n",
       "      <td>8.971707</td>\n",
       "      <td>8.848428</td>\n",
       "      <td>3.046479</td>\n",
       "      <td>1.214518</td>\n",
       "      <td>3.405158</td>\n",
       "      <td>-1.207456</td>\n",
       "      <td>-1.277210</td>\n",
       "      <td>-0.920492</td>\n",
       "      <td>0.163041</td>\n",
       "      <td>0.766689</td>\n",
       "      <td>0.839444</td>\n",
       "      <td>0.109853</td>\n",
       "      <td>0.003471</td>\n",
       "      <td>unstable</td>\n",
       "    </tr>\n",
       "    <tr>\n",
       "      <th>3</th>\n",
       "      <td>0.716415</td>\n",
       "      <td>7.669600</td>\n",
       "      <td>4.486641</td>\n",
       "      <td>2.340563</td>\n",
       "      <td>3.963791</td>\n",
       "      <td>-1.027473</td>\n",
       "      <td>-1.938944</td>\n",
       "      <td>-0.997374</td>\n",
       "      <td>0.446209</td>\n",
       "      <td>0.976744</td>\n",
       "      <td>0.929381</td>\n",
       "      <td>0.362718</td>\n",
       "      <td>0.028871</td>\n",
       "      <td>unstable</td>\n",
       "    </tr>\n",
       "    <tr>\n",
       "      <th>4</th>\n",
       "      <td>3.134112</td>\n",
       "      <td>7.608772</td>\n",
       "      <td>4.943759</td>\n",
       "      <td>9.857573</td>\n",
       "      <td>3.525811</td>\n",
       "      <td>-1.125531</td>\n",
       "      <td>-1.845975</td>\n",
       "      <td>-0.554305</td>\n",
       "      <td>0.797110</td>\n",
       "      <td>0.455450</td>\n",
       "      <td>0.656947</td>\n",
       "      <td>0.820923</td>\n",
       "      <td>0.049860</td>\n",
       "      <td>unstable</td>\n",
       "    </tr>\n",
       "  </tbody>\n",
       "</table>\n",
       "</div>"
      ],
      "text/plain": [
       "       tau1      tau2      tau3      tau4        p1        p2        p3  \\\n",
       "0  2.959060  3.079885  8.381025  9.780754  3.763085 -0.782604 -1.257395   \n",
       "1  9.304097  4.902524  3.047541  1.369357  5.067812 -1.940058 -1.872742   \n",
       "2  8.971707  8.848428  3.046479  1.214518  3.405158 -1.207456 -1.277210   \n",
       "3  0.716415  7.669600  4.486641  2.340563  3.963791 -1.027473 -1.938944   \n",
       "4  3.134112  7.608772  4.943759  9.857573  3.525811 -1.125531 -1.845975   \n",
       "\n",
       "         p4        g1        g2        g3        g4      stab     stabf  \n",
       "0 -1.723086  0.650456  0.859578  0.887445  0.958034  0.055347  unstable  \n",
       "1 -1.255012  0.413441  0.862414  0.562139  0.781760 -0.005957    stable  \n",
       "2 -0.920492  0.163041  0.766689  0.839444  0.109853  0.003471  unstable  \n",
       "3 -0.997374  0.446209  0.976744  0.929381  0.362718  0.028871  unstable  \n",
       "4 -0.554305  0.797110  0.455450  0.656947  0.820923  0.049860  unstable  "
      ]
     },
     "execution_count": 2,
     "metadata": {},
     "output_type": "execute_result"
    }
   ],
   "source": [
    "# read the data into a dataframe\n",
    "df = pd.read_csv('Data_for_UCI_named.csv')\n",
    "df.head()"
   ]
  },
  {
   "cell_type": "code",
   "execution_count": 3,
   "id": "b4459138-4270-4f9c-9b48-7149e4b5d7f6",
   "metadata": {},
   "outputs": [
    {
     "data": {
      "text/plain": [
       "(10000, 14)"
      ]
     },
     "execution_count": 3,
     "metadata": {},
     "output_type": "execute_result"
    }
   ],
   "source": [
    "df.shape"
   ]
  },
  {
   "cell_type": "code",
   "execution_count": 4,
   "id": "1a0a164e-d3bb-4021-81cb-46a76f66ae93",
   "metadata": {},
   "outputs": [
    {
     "name": "stdout",
     "output_type": "stream",
     "text": [
      "<class 'pandas.core.frame.DataFrame'>\n",
      "RangeIndex: 10000 entries, 0 to 9999\n",
      "Data columns (total 14 columns):\n",
      " #   Column  Non-Null Count  Dtype  \n",
      "---  ------  --------------  -----  \n",
      " 0   tau1    10000 non-null  float64\n",
      " 1   tau2    10000 non-null  float64\n",
      " 2   tau3    10000 non-null  float64\n",
      " 3   tau4    10000 non-null  float64\n",
      " 4   p1      10000 non-null  float64\n",
      " 5   p2      10000 non-null  float64\n",
      " 6   p3      10000 non-null  float64\n",
      " 7   p4      10000 non-null  float64\n",
      " 8   g1      10000 non-null  float64\n",
      " 9   g2      10000 non-null  float64\n",
      " 10  g3      10000 non-null  float64\n",
      " 11  g4      10000 non-null  float64\n",
      " 12  stab    10000 non-null  float64\n",
      " 13  stabf   10000 non-null  object \n",
      "dtypes: float64(13), object(1)\n",
      "memory usage: 1.1+ MB\n"
     ]
    }
   ],
   "source": [
    "df.info()"
   ]
  },
  {
   "cell_type": "code",
   "execution_count": 5,
   "id": "29f615be-6b7b-4e44-a40c-4b4c08863dcd",
   "metadata": {},
   "outputs": [
    {
     "data": {
      "image/png": "[encoded data removed]",
      "text/plain": [
       "<Figure size 432x288 with 1 Axes>"
      ]
     },
     "metadata": {
      "needs_background": "light"
     },
     "output_type": "display_data"
    }
   ],
   "source": [
    "df.stabf.value_counts().plot.bar(color = ['teal', 'purple']);"
   ]
  },
  {
   "cell_type": "code",
   "execution_count": 6,
   "id": "9f727788-ec20-4649-a665-a48558389ad0",
   "metadata": {},
   "outputs": [
    {
     "data": {
      "text/html": [
       "<div>\n",
       "<style scoped>\n",
       "    .dataframe tbody tr th:only-of-type {\n",
       "        vertical-align: middle;\n",
       "    }\n",
       "\n",
       "    .dataframe tbody tr th {\n",
       "        vertical-align: top;\n",
       "    }\n",
       "\n",
       "    .dataframe thead th {\n",
       "        text-align: right;\n",
       "    }\n",
       "</style>\n",
       "<table border=\"1\" class=\"dataframe\">\n",
       "  <thead>\n",
       "    <tr style=\"text-align: right;\">\n",
       "      <th></th>\n",
       "      <th>tau1</th>\n",
       "      <th>tau2</th>\n",
       "      <th>tau3</th>\n",
       "      <th>tau4</th>\n",
       "      <th>p1</th>\n",
       "      <th>p2</th>\n",
       "      <th>p3</th>\n",
       "      <th>p4</th>\n",
       "      <th>g1</th>\n",
       "      <th>g2</th>\n",
       "      <th>g3</th>\n",
       "      <th>g4</th>\n",
       "      <th>stab</th>\n",
       "      <th>stabf</th>\n",
       "    </tr>\n",
       "  </thead>\n",
       "  <tbody>\n",
       "    <tr>\n",
       "      <th>0</th>\n",
       "      <td>2.959060</td>\n",
       "      <td>3.079885</td>\n",
       "      <td>8.381025</td>\n",
       "      <td>9.780754</td>\n",
       "      <td>3.763085</td>\n",
       "      <td>-0.782604</td>\n",
       "      <td>-1.257395</td>\n",
       "      <td>-1.723086</td>\n",
       "      <td>0.650456</td>\n",
       "      <td>0.859578</td>\n",
       "      <td>0.887445</td>\n",
       "      <td>0.958034</td>\n",
       "      <td>0.055347</td>\n",
       "      <td>1</td>\n",
       "    </tr>\n",
       "    <tr>\n",
       "      <th>1</th>\n",
       "      <td>9.304097</td>\n",
       "      <td>4.902524</td>\n",
       "      <td>3.047541</td>\n",
       "      <td>1.369357</td>\n",
       "      <td>5.067812</td>\n",
       "      <td>-1.940058</td>\n",
       "      <td>-1.872742</td>\n",
       "      <td>-1.255012</td>\n",
       "      <td>0.413441</td>\n",
       "      <td>0.862414</td>\n",
       "      <td>0.562139</td>\n",
       "      <td>0.781760</td>\n",
       "      <td>-0.005957</td>\n",
       "      <td>0</td>\n",
       "    </tr>\n",
       "    <tr>\n",
       "      <th>2</th>\n",
       "      <td>8.971707</td>\n",
       "      <td>8.848428</td>\n",
       "      <td>3.046479</td>\n",
       "      <td>1.214518</td>\n",
       "      <td>3.405158</td>\n",
       "      <td>-1.207456</td>\n",
       "      <td>-1.277210</td>\n",
       "      <td>-0.920492</td>\n",
       "      <td>0.163041</td>\n",
       "      <td>0.766689</td>\n",
       "      <td>0.839444</td>\n",
       "      <td>0.109853</td>\n",
       "      <td>0.003471</td>\n",
       "      <td>1</td>\n",
       "    </tr>\n",
       "    <tr>\n",
       "      <th>3</th>\n",
       "      <td>0.716415</td>\n",
       "      <td>7.669600</td>\n",
       "      <td>4.486641</td>\n",
       "      <td>2.340563</td>\n",
       "      <td>3.963791</td>\n",
       "      <td>-1.027473</td>\n",
       "      <td>-1.938944</td>\n",
       "      <td>-0.997374</td>\n",
       "      <td>0.446209</td>\n",
       "      <td>0.976744</td>\n",
       "      <td>0.929381</td>\n",
       "      <td>0.362718</td>\n",
       "      <td>0.028871</td>\n",
       "      <td>1</td>\n",
       "    </tr>\n",
       "    <tr>\n",
       "      <th>4</th>\n",
       "      <td>3.134112</td>\n",
       "      <td>7.608772</td>\n",
       "      <td>4.943759</td>\n",
       "      <td>9.857573</td>\n",
       "      <td>3.525811</td>\n",
       "      <td>-1.125531</td>\n",
       "      <td>-1.845975</td>\n",
       "      <td>-0.554305</td>\n",
       "      <td>0.797110</td>\n",
       "      <td>0.455450</td>\n",
       "      <td>0.656947</td>\n",
       "      <td>0.820923</td>\n",
       "      <td>0.049860</td>\n",
       "      <td>1</td>\n",
       "    </tr>\n",
       "  </tbody>\n",
       "</table>\n",
       "</div>"
      ],
      "text/plain": [
       "       tau1      tau2      tau3      tau4        p1        p2        p3  \\\n",
       "0  2.959060  3.079885  8.381025  9.780754  3.763085 -0.782604 -1.257395   \n",
       "1  9.304097  4.902524  3.047541  1.369357  5.067812 -1.940058 -1.872742   \n",
       "2  8.971707  8.848428  3.046479  1.214518  3.405158 -1.207456 -1.277210   \n",
       "3  0.716415  7.669600  4.486641  2.340563  3.963791 -1.027473 -1.938944   \n",
       "4  3.134112  7.608772  4.943759  9.857573  3.525811 -1.125531 -1.845975   \n",
       "\n",
       "         p4        g1        g2        g3        g4      stab  stabf  \n",
       "0 -1.723086  0.650456  0.859578  0.887445  0.958034  0.055347      1  \n",
       "1 -1.255012  0.413441  0.862414  0.562139  0.781760 -0.005957      0  \n",
       "2 -0.920492  0.163041  0.766689  0.839444  0.109853  0.003471      1  \n",
       "3 -0.997374  0.446209  0.976744  0.929381  0.362718  0.028871      1  \n",
       "4 -0.554305  0.797110  0.455450  0.656947  0.820923  0.049860      1  "
      ]
     },
     "execution_count": 6,
     "metadata": {},
     "output_type": "execute_result"
    }
   ],
   "source": [
    "from sklearn.preprocessing import LabelEncoder\n",
    "\n",
    "# creating instance of labelencoder\n",
    "le = LabelEncoder()\n",
    "\n",
    "# Assigning numerical values and storing in another column\n",
    "df['stabf'] = le.fit_transform(df['stabf'])\n",
    "df.head()"
   ]
  },
  {
   "cell_type": "code",
   "execution_count": 7,
   "id": "0ef6366e-63bc-4bb5-a4e9-00b7a1323979",
   "metadata": {},
   "outputs": [],
   "source": [
    "# Because of the direct relationship between 'stab' and 'stabf','stab' is dropped \n",
    "df.drop('stab', axis = 1, inplace = True)"
   ]
  },
  {
   "cell_type": "code",
   "execution_count": 8,
   "id": "d0cad1e5-317e-41ca-a0a8-924cb988b7a4",
   "metadata": {},
   "outputs": [],
   "source": [
    "# import train split library\n",
    "from sklearn.model_selection import train_test_split\n",
    "\n",
    "x = df.drop(['stabf'], axis = 1)\n",
    "y = df['stabf']\n",
    "x_train, x_test, y_train, y_test = train_test_split(x, y, test_size=0.2, random_state = 1)"
   ]
  },
  {
   "cell_type": "code",
   "execution_count": 9,
   "id": "ab003c56-347a-4285-89fd-17514346ec9b",
   "metadata": {},
   "outputs": [],
   "source": [
    "from sklearn.preprocessing import StandardScaler\n",
    "\n",
    "# apply standardscaler to normalize dataset\n",
    "sc_x = StandardScaler()\n",
    "sc_y = StandardScaler()\n",
    "\n",
    "x_train = sc_x.fit_transform(x_train)\n",
    "x_test = x_test.reset_index(drop=True)\n",
    "x_test = sc_x.transform(x_test)"
   ]
  },
  {
   "cell_type": "code",
   "execution_count": 10,
   "id": "8863c862-9331-4cb0-a056-eea0b65fba27",
   "metadata": {},
   "outputs": [],
   "source": [
    "# transform the array to a dataframe\n",
    "x_train = pd.DataFrame(x_train, columns = x.columns)\n",
    "x_test = pd.DataFrame(x_test, columns = x.columns)"
   ]
  },
  {
   "cell_type": "code",
   "execution_count": 11,
   "id": "8d2a12de-87d5-4b97-a691-418b290d6b22",
   "metadata": {},
   "outputs": [
    {
     "data": {
      "text/html": [
       "<div>\n",
       "<style scoped>\n",
       "    .dataframe tbody tr th:only-of-type {\n",
       "        vertical-align: middle;\n",
       "    }\n",
       "\n",
       "    .dataframe tbody tr th {\n",
       "        vertical-align: top;\n",
       "    }\n",
       "\n",
       "    .dataframe thead th {\n",
       "        text-align: right;\n",
       "    }\n",
       "</style>\n",
       "<table border=\"1\" class=\"dataframe\">\n",
       "  <thead>\n",
       "    <tr style=\"text-align: right;\">\n",
       "      <th></th>\n",
       "      <th>tau1</th>\n",
       "      <th>tau2</th>\n",
       "      <th>tau3</th>\n",
       "      <th>tau4</th>\n",
       "      <th>p1</th>\n",
       "      <th>p2</th>\n",
       "      <th>p3</th>\n",
       "      <th>p4</th>\n",
       "      <th>g1</th>\n",
       "      <th>g2</th>\n",
       "      <th>g3</th>\n",
       "      <th>g4</th>\n",
       "    </tr>\n",
       "  </thead>\n",
       "  <tbody>\n",
       "    <tr>\n",
       "      <th>count</th>\n",
       "      <td>8.000000e+03</td>\n",
       "      <td>8.000000e+03</td>\n",
       "      <td>8.000000e+03</td>\n",
       "      <td>8.000000e+03</td>\n",
       "      <td>8.000000e+03</td>\n",
       "      <td>8.000000e+03</td>\n",
       "      <td>8.000000e+03</td>\n",
       "      <td>8.000000e+03</td>\n",
       "      <td>8.000000e+03</td>\n",
       "      <td>8.000000e+03</td>\n",
       "      <td>8.000000e+03</td>\n",
       "      <td>8.000000e+03</td>\n",
       "    </tr>\n",
       "    <tr>\n",
       "      <th>mean</th>\n",
       "      <td>-1.296185e-17</td>\n",
       "      <td>-5.152823e-17</td>\n",
       "      <td>4.745510e-17</td>\n",
       "      <td>-2.364497e-16</td>\n",
       "      <td>-4.278522e-16</td>\n",
       "      <td>-3.066158e-16</td>\n",
       "      <td>3.082395e-16</td>\n",
       "      <td>-1.026124e-16</td>\n",
       "      <td>-8.940071e-17</td>\n",
       "      <td>-2.159106e-16</td>\n",
       "      <td>4.111989e-16</td>\n",
       "      <td>-9.825474e-18</td>\n",
       "    </tr>\n",
       "    <tr>\n",
       "      <th>std</th>\n",
       "      <td>1.000063e+00</td>\n",
       "      <td>1.000063e+00</td>\n",
       "      <td>1.000063e+00</td>\n",
       "      <td>1.000063e+00</td>\n",
       "      <td>1.000063e+00</td>\n",
       "      <td>1.000063e+00</td>\n",
       "      <td>1.000063e+00</td>\n",
       "      <td>1.000063e+00</td>\n",
       "      <td>1.000063e+00</td>\n",
       "      <td>1.000063e+00</td>\n",
       "      <td>1.000063e+00</td>\n",
       "      <td>1.000063e+00</td>\n",
       "    </tr>\n",
       "    <tr>\n",
       "      <th>min</th>\n",
       "      <td>-1.729968e+00</td>\n",
       "      <td>-1.730603e+00</td>\n",
       "      <td>-1.737156e+00</td>\n",
       "      <td>-1.736849e+00</td>\n",
       "      <td>-2.859769e+00</td>\n",
       "      <td>-1.729344e+00</td>\n",
       "      <td>-1.728149e+00</td>\n",
       "      <td>-1.726799e+00</td>\n",
       "      <td>-1.725913e+00</td>\n",
       "      <td>-1.730382e+00</td>\n",
       "      <td>-1.735079e+00</td>\n",
       "      <td>-1.732426e+00</td>\n",
       "    </tr>\n",
       "    <tr>\n",
       "      <th>25%</th>\n",
       "      <td>-8.612112e-01</td>\n",
       "      <td>-8.659929e-01</td>\n",
       "      <td>-8.684020e-01</td>\n",
       "      <td>-8.612716e-01</td>\n",
       "      <td>-7.001897e-01</td>\n",
       "      <td>-8.701777e-01</td>\n",
       "      <td>-8.688208e-01</td>\n",
       "      <td>-8.617516e-01</td>\n",
       "      <td>-8.704214e-01</td>\n",
       "      <td>-8.687498e-01</td>\n",
       "      <td>-8.631636e-01</td>\n",
       "      <td>-8.664736e-01</td>\n",
       "    </tr>\n",
       "    <tr>\n",
       "      <th>50%</th>\n",
       "      <td>2.761445e-03</td>\n",
       "      <td>-4.703122e-03</td>\n",
       "      <td>1.932288e-03</td>\n",
       "      <td>-3.758029e-03</td>\n",
       "      <td>-2.591963e-03</td>\n",
       "      <td>-4.486177e-03</td>\n",
       "      <td>5.848845e-04</td>\n",
       "      <td>-7.230831e-03</td>\n",
       "      <td>-5.757044e-03</td>\n",
       "      <td>1.094796e-04</td>\n",
       "      <td>3.622378e-03</td>\n",
       "      <td>4.780989e-04</td>\n",
       "    </tr>\n",
       "    <tr>\n",
       "      <th>75%</th>\n",
       "      <td>8.620374e-01</td>\n",
       "      <td>8.608394e-01</td>\n",
       "      <td>8.667755e-01</td>\n",
       "      <td>8.632527e-01</td>\n",
       "      <td>7.129406e-01</td>\n",
       "      <td>8.739349e-01</td>\n",
       "      <td>8.692821e-01</td>\n",
       "      <td>8.681892e-01</td>\n",
       "      <td>8.643825e-01</td>\n",
       "      <td>8.641738e-01</td>\n",
       "      <td>8.655752e-01</td>\n",
       "      <td>8.636007e-01</td>\n",
       "    </tr>\n",
       "    <tr>\n",
       "      <th>max</th>\n",
       "      <td>1.731513e+00</td>\n",
       "      <td>1.734126e+00</td>\n",
       "      <td>1.739130e+00</td>\n",
       "      <td>1.738674e+00</td>\n",
       "      <td>2.787505e+00</td>\n",
       "      <td>1.736651e+00</td>\n",
       "      <td>1.727345e+00</td>\n",
       "      <td>1.724887e+00</td>\n",
       "      <td>1.732812e+00</td>\n",
       "      <td>1.729643e+00</td>\n",
       "      <td>1.731885e+00</td>\n",
       "      <td>1.731522e+00</td>\n",
       "    </tr>\n",
       "  </tbody>\n",
       "</table>\n",
       "</div>"
      ],
      "text/plain": [
       "               tau1          tau2          tau3          tau4            p1  \\\n",
       "count  8.000000e+03  8.000000e+03  8.000000e+03  8.000000e+03  8.000000e+03   \n",
       "mean  -1.296185e-17 -5.152823e-17  4.745510e-17 -2.364497e-16 -4.278522e-16   \n",
       "std    1.000063e+00  1.000063e+00  1.000063e+00  1.000063e+00  1.000063e+00   \n",
       "min   -1.729968e+00 -1.730603e+00 -1.737156e+00 -1.736849e+00 -2.859769e+00   \n",
       "25%   -8.612112e-01 -8.659929e-01 -8.684020e-01 -8.612716e-01 -7.001897e-01   \n",
       "50%    2.761445e-03 -4.703122e-03  1.932288e-03 -3.758029e-03 -2.591963e-03   \n",
       "75%    8.620374e-01  8.608394e-01  8.667755e-01  8.632527e-01  7.129406e-01   \n",
       "max    1.731513e+00  1.734126e+00  1.739130e+00  1.738674e+00  2.787505e+00   \n",
       "\n",
       "                 p2            p3            p4            g1            g2  \\\n",
       "count  8.000000e+03  8.000000e+03  8.000000e+03  8.000000e+03  8.000000e+03   \n",
       "mean  -3.066158e-16  3.082395e-16 -1.026124e-16 -8.940071e-17 -2.159106e-16   \n",
       "std    1.000063e+00  1.000063e+00  1.000063e+00  1.000063e+00  1.000063e+00   \n",
       "min   -1.729344e+00 -1.728149e+00 -1.726799e+00 -1.725913e+00 -1.730382e+00   \n",
       "25%   -8.701777e-01 -8.688208e-01 -8.617516e-01 -8.704214e-01 -8.687498e-01   \n",
       "50%   -4.486177e-03  5.848845e-04 -7.230831e-03 -5.757044e-03  1.094796e-04   \n",
       "75%    8.739349e-01  8.692821e-01  8.681892e-01  8.643825e-01  8.641738e-01   \n",
       "max    1.736651e+00  1.727345e+00  1.724887e+00  1.732812e+00  1.729643e+00   \n",
       "\n",
       "                 g3            g4  \n",
       "count  8.000000e+03  8.000000e+03  \n",
       "mean   4.111989e-16 -9.825474e-18  \n",
       "std    1.000063e+00  1.000063e+00  \n",
       "min   -1.735079e+00 -1.732426e+00  \n",
       "25%   -8.631636e-01 -8.664736e-01  \n",
       "50%    3.622378e-03  4.780989e-04  \n",
       "75%    8.655752e-01  8.636007e-01  \n",
       "max    1.731885e+00  1.731522e+00  "
      ]
     },
     "execution_count": 11,
     "metadata": {},
     "output_type": "execute_result"
    }
   ],
   "source": [
    "# check the statistical summary of the normalised dataset\n",
    "x_train.describe()"
   ]
  },
  {
   "cell_type": "code",
   "execution_count": 12,
   "id": "d2c8798a-d4f8-4ea3-8cb3-7f89d2a1db77",
   "metadata": {},
   "outputs": [],
   "source": [
    "# pip install lightgbm"
   ]
  },
  {
   "cell_type": "markdown",
   "id": "2adbbdd1-f127-49cc-9761-7c3da6a2ea8a",
   "metadata": {},
   "source": [
    "#### Use scikit learn to train a random forest and extra trees classifier. And use xgboost and lightgbm to train an extreme boosting model and a light gradient boosting model. Use random_state = 1 for training all models and evaluate on the test set"
   ]
  },
  {
   "cell_type": "code",
   "execution_count": 13,
   "id": "69909843-2050-42a3-aecb-efa068102b7b",
   "metadata": {},
   "outputs": [],
   "source": [
    "# import classifier models and extreme boosting models\n",
    "from sklearn.ensemble import RandomForestClassifier\n",
    "from sklearn.ensemble import ExtraTreesClassifier\n",
    "from xgboost import XGBClassifier\n",
    "from lightgbm import LGBMClassifier"
   ]
  },
  {
   "cell_type": "code",
   "execution_count": 14,
   "id": "88534ae6-283e-42fa-85ef-e6b210439004",
   "metadata": {},
   "outputs": [],
   "source": [
    "# feed the models to fit into  dictionary\n",
    "models = {'Random Forest': RandomForestClassifier(random_state = 1),\n",
    "          'Extra Trees': ExtraTreesClassifier(random_state = 1),\n",
    "          'XGBoost': XGBClassifier(random_state = 1),\n",
    "          'LGBoost': LGBMClassifier(random_state = 1)\n",
    "         }"
   ]
  },
  {
   "cell_type": "code",
   "execution_count": 15,
   "id": "2b57ee99-7ae7-4ce5-85c9-a848ecf27cc2",
   "metadata": {},
   "outputs": [],
   "source": [
    "# create a function to fit and score models\n",
    "\n",
    "def fit_score(models, X_train, X_test, Y_train, Y_test):\n",
    "    '''\n",
    "    function to fit and score machine learning models\n",
    "    parameters\n",
    "    ---------------------------------------------\n",
    "    models: dictionary of all scikit learn machine leraning models to fit and evaluate\n",
    "    X_train: training set of the predictors to fit into model\n",
    "    X_test: test set of the predictors to fit into model\n",
    "    Y_train: training set of the depedent varaiable\n",
    "    Y_test: test set of dependent variable\n",
    "    '''\n",
    "#     define a random seed to make same set of prediction appear each time program is run(for reproducability)\n",
    "    np.random.seed(0)\n",
    "#     define a dictionary for the model scores\n",
    "    model_scores = {}\n",
    "\n",
    "#     iterate through the models dictionary items\n",
    "    for name, model in models.items():\n",
    "#         fit model the training set into each model in the dictionary\n",
    "        model.fit(X_train, Y_train)\n",
    "#     get the model score and attach it to each of the model name from model dictionary \n",
    "        model_scores[name] = model.score(X_test, Y_test)\n",
    "    return model_scores"
   ]
  },
  {
   "cell_type": "code",
   "execution_count": 16,
   "id": "1df59270-4af2-440a-ad21-0d3157ba982c",
   "metadata": {},
   "outputs": [
    {
     "data": {
      "text/plain": [
       "{'Random Forest': 0.929,\n",
       " 'Extra Trees': 0.928,\n",
       " 'XGBoost': 0.9455,\n",
       " 'LGBoost': 0.9395}"
      ]
     },
     "execution_count": 16,
     "metadata": {},
     "output_type": "execute_result"
    }
   ],
   "source": [
    "# Display the evaluation score of the models\n",
    "accuracy = fit_score(models = models,\n",
    "                  X_train = x_train,\n",
    "                  Y_train = y_train,\n",
    "                  X_test = x_test,\n",
    "                  Y_test = y_test)\n",
    "accuracy"
   ]
  },
  {
   "cell_type": "code",
   "execution_count": 17,
   "id": "045ad9a1-cbe2-46d0-9071-6668e91817ac",
   "metadata": {},
   "outputs": [
    {
     "data": {
      "image/png": "[encoded data removed]",
      "text/plain": [
       "<Figure size 432x288 with 1 Axes>"
      ]
     },
     "metadata": {
      "needs_background": "light"
     },
     "output_type": "display_data"
    }
   ],
   "source": [
    "# display scores as a dataframe for proper comparison\n",
    "accuracy= pd.DataFrame(accuracy, index=['Accuracy'])\n",
    "accuracy.T.plot.bar(color = 'purple', legend = False);"
   ]
  },
  {
   "cell_type": "code",
   "execution_count": 18,
   "id": "d233e8ea-7665-48a2-8a2b-2a8f1870cbbe",
   "metadata": {},
   "outputs": [
    {
     "data": {
      "text/plain": [
       "XGBClassifier(base_score=None, booster=None, callbacks=None,\n",
       "              colsample_bylevel=None, colsample_bynode=None,\n",
       "              colsample_bytree=None, early_stopping_rounds=None,\n",
       "              enable_categorical=False, eval_metric=None, feature_types=None,\n",
       "              gamma=None, gpu_id=None, grow_policy=None, importance_type=None,\n",
       "              interaction_constraints=None, learning_rate=None, max_bin=None,\n",
       "              max_cat_threshold=None, max_cat_to_onehot=None,\n",
       "              max_delta_step=None, max_depth=None, max_leaves=None,\n",
       "              min_child_weight=None, missing=nan, monotone_constraints=None,\n",
       "              n_estimators=100, n_jobs=None, num_parallel_tree=None,\n",
       "              predictor=None, random_state=1, ...)"
      ]
     },
     "execution_count": 18,
     "metadata": {},
     "output_type": "execute_result"
    }
   ],
   "source": [
    "XGBClassifier(random_state = 1)"
   ]
  },
  {
   "cell_type": "code",
   "execution_count": 19,
   "id": "899157ce-11b7-49fd-88cd-f3cf22248d50",
   "metadata": {},
   "outputs": [
    {
     "data": {
      "text/plain": [
       "array([1, 1, 0, ..., 0, 1, 1])"
      ]
     },
     "execution_count": 19,
     "metadata": {},
     "output_type": "execute_result"
    }
   ],
   "source": [
    "# predict the dataset with the model with the highest accuracy\n",
    "xmodel = XGBClassifier(random_state = 1)\n",
    "xmodel.fit(x_train, y_train)\n",
    "ypred = xmodel.predict(x_test)\n",
    "ypred"
   ]
  },
  {
   "cell_type": "code",
   "execution_count": 20,
   "id": "a29cd39f-6632-48a3-b634-be51d61699d4",
   "metadata": {},
   "outputs": [
    {
     "data": {
      "image/png": "[encoded data removed]",
      "text/plain": [
       "<Figure size 432x288 with 2 Axes>"
      ]
     },
     "metadata": {
      "needs_background": "light"
     },
     "output_type": "display_data"
    }
   ],
   "source": [
    "# import evaluation metrics module\n",
    "from sklearn.metrics import classification_report, confusion_matrix\n",
    "# plot the confusion matrix\n",
    "sns.heatmap((confusion_matrix(y_test,ypred)),annot=True,fmt='.5g',cmap=\"YlGn\");"
   ]
  },
  {
   "cell_type": "code",
   "execution_count": 21,
   "id": "62d06e65-9ba3-46fa-ba6f-d831e7060f8b",
   "metadata": {},
   "outputs": [],
   "source": [
    "# Creating the hyperparameter grid\n",
    "param_grid = {'n_estimators': np.arange(10, 1000, 50),\n",
    "              'max_features': ['auto','sqrt','log2'],\n",
    "              'min_samples_split': np.arange(2, 20, 2),\n",
    "              'min_samples_leaf': np.arange(1, 20, 2),\n",
    "              }\n",
    "\n",
    "# param_grid = {\n",
    "#     'n_estimators': [10,50,100],\n",
    "#     'criterion': ['mse', 'mae'],\n",
    "#     'max_depth': [2,8,16,32,50],\n",
    "#     'min_sample_split': [2,4,6],\n",
    "#     'min_sample_leaf': [1,2],\n",
    "#     #'oob_score': [True, False],\n",
    "#     'max_features': ['auto','sqrt','log2'],    \n",
    "#     'bootstrap': [True, False],\n",
    "    # 'warm_start': [True, False],\n",
    "# }"
   ]
  },
  {
   "cell_type": "markdown",
   "id": "e4654459-793c-41fa-8e2c-872a798be91f",
   "metadata": {},
   "source": [
    "##### HYPERPARAMETER TUNING"
   ]
  },
  {
   "cell_type": "code",
   "execution_count": 22,
   "id": "de0f6e86-b178-4a98-a2ef-a81348040ac5",
   "metadata": {},
   "outputs": [
    {
     "name": "stdout",
     "output_type": "stream",
     "text": [
      "Fitting 5 folds for each of 10 candidates, totalling 50 fits\n"
     ]
    },
    {
     "data": {
      "text/plain": [
       "{'n_estimators': 760,\n",
       " 'min_samples_split': 6,\n",
       " 'min_samples_leaf': 3,\n",
       " 'max_features': 'auto'}"
      ]
     },
     "execution_count": 22,
     "metadata": {},
     "output_type": "execute_result"
    }
   ],
   "source": [
    "# import hyperparameter tuning module\n",
    "from sklearn.model_selection import RandomizedSearchCV\n",
    "\n",
    "# Instantiating Random Forest classifier\n",
    "extr = ExtraTreesClassifier(random_state = 1)\n",
    "\n",
    "# Instantiating RandomizedSearchCV object\n",
    "extr_cv = RandomizedSearchCV(extr, param_grid, cv=5, n_iter=10, scoring = 'accuracy', n_jobs = -1, verbose = 1, random_state = 1)\n",
    "\n",
    "extr_cv.fit(x_train, y_train)\n",
    "\n",
    "# Print the tuned parameters and score\n",
    "extr_cv.best_params_"
   ]
  },
  {
   "cell_type": "code",
   "execution_count": 23,
   "id": "1be7c7db-554b-4ada-b8e8-c777f80ee233",
   "metadata": {},
   "outputs": [
    {
     "name": "stdout",
     "output_type": "stream",
     "text": [
      "Fitting 5 folds for each of 10 candidates, totalling 50 fits\n"
     ]
    },
    {
     "data": {
      "text/plain": [
       "0.926"
      ]
     },
     "execution_count": 23,
     "metadata": {},
     "output_type": "execute_result"
    }
   ],
   "source": [
    "extr_cv.fit(x_train, y_train)\n",
    "extr_cv.score(x_test, y_test)"
   ]
  },
  {
   "cell_type": "markdown",
   "id": "f71fd6ee-e379-4a2e-86d9-952946a11b39",
   "metadata": {},
   "source": [
    "Train a new ExtraTreesClassifier Model with the new Hyperparameters from the RandomizedSearchCV (with random_state = 1). Is the accuracy of the new optimal model higher or lower than the initial ExtraTreesClassifier model with no hyperparameter tuning?"
   ]
  },
  {
   "cell_type": "code",
   "execution_count": 24,
   "id": "527fb5e5-0a31-4a74-afac-e452f30b8024",
   "metadata": {},
   "outputs": [
    {
     "data": {
      "text/plain": [
       "0.926"
      ]
     },
     "execution_count": 24,
     "metadata": {},
     "output_type": "execute_result"
    }
   ],
   "source": [
    "# Instantiating Extra Tree classifier\n",
    "trees = ExtraTreesClassifier(n_estimators = 760, min_samples_split = 6, \n",
    "                             min_samples_leaf = 3, max_features = 'auto', random_state = 1)\n",
    "\n",
    "trees.fit(x_train, y_train)\n",
    "trees.score(x_test, y_test)"
   ]
  },
  {
   "cell_type": "code",
   "execution_count": 25,
   "id": "b9e1e605-e521-48b9-8065-f4e95c78c81c",
   "metadata": {},
   "outputs": [],
   "source": [
    "a = extr_cv.best_estimator_.feature_importances_"
   ]
  },
  {
   "cell_type": "code",
   "execution_count": 32,
   "id": "74fae4f8-9739-4550-a0b5-8105fb4c9b12",
   "metadata": {},
   "outputs": [
    {
     "data": {
      "image/png": "[encoded data removed]",
      "text/plain": [
       "<Figure size 432x288 with 1 Axes>"
      ]
     },
     "metadata": {
      "needs_background": "light"
     },
     "output_type": "display_data"
    }
   ],
   "source": [
    "feat_imp = pd.DataFrame(a, index = df.drop(['stabf'], axis = 1).columns)\n",
    "# visualize the feature importance\n",
    "feat_imp.plot.bar(title ='Feature Importances', color = 'purple', legend = False);\n"
   ]
  },
  {
   "cell_type": "code",
   "execution_count": null,
   "id": "3abe2a64-008a-4c7f-978e-f892dc56b507",
   "metadata": {},
   "outputs": [],
   "source": []
  }
 ],
 "metadata": {
  "kernelspec": {
   "display_name": "Python 3 (ipykernel)",
   "language": "python",
   "name": "python3"
  },
  "language_info": {
   "codemirror_mode": {
    "name": "ipython",
    "version": 3
   },
   "file_extension": ".py",
   "mimetype": "text/x-python",
   "name": "python",
   "nbconvert_exporter": "python",
   "pygments_lexer": "ipython3",
   "version": "3.9.12"
  }
 },
 "nbformat": 4,
 "nbformat_minor": 5
}
