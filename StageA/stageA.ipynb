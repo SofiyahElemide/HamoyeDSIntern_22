{
 "cells": [
  {
   "cell_type": "code",
   "execution_count": 1,
   "id": "24608c00-84fb-4e61-bf3e-96ba5491c98e",
   "metadata": {},
   "outputs": [],
   "source": [
    "# import libraries\n",
    "import pandas as pd\n",
    "import numpy as np\n",
    "import matplotlib.pyplot as plt\n",
    "import seaborn as sb"
   ]
  },
  {
   "cell_type": "code",
   "execution_count": 2,
   "id": "c777d424-2220-456d-b630-ad7a327a67b8",
   "metadata": {},
   "outputs": [
    {
     "data": {
      "text/html": [
       "<div>\n",
       "<style scoped>\n",
       "    .dataframe tbody tr th:only-of-type {\n",
       "        vertical-align: middle;\n",
       "    }\n",
       "\n",
       "    .dataframe tbody tr th {\n",
       "        vertical-align: top;\n",
       "    }\n",
       "\n",
       "    .dataframe thead th {\n",
       "        text-align: right;\n",
       "    }\n",
       "</style>\n",
       "<table border=\"1\" class=\"dataframe\">\n",
       "  <thead>\n",
       "    <tr style=\"text-align: right;\">\n",
       "      <th></th>\n",
       "      <th>Area Code</th>\n",
       "      <th>Area</th>\n",
       "      <th>Item Code</th>\n",
       "      <th>Item</th>\n",
       "      <th>Element Code</th>\n",
       "      <th>Element</th>\n",
       "      <th>Unit</th>\n",
       "      <th>Y2014</th>\n",
       "      <th>Y2015</th>\n",
       "      <th>Y2016</th>\n",
       "      <th>Y2017</th>\n",
       "      <th>Y2018</th>\n",
       "    </tr>\n",
       "  </thead>\n",
       "  <tbody>\n",
       "    <tr>\n",
       "      <th>0</th>\n",
       "      <td>4</td>\n",
       "      <td>Algeria</td>\n",
       "      <td>2501</td>\n",
       "      <td>Population</td>\n",
       "      <td>511</td>\n",
       "      <td>Total Population - Both sexes</td>\n",
       "      <td>1000 persons</td>\n",
       "      <td>38924.00</td>\n",
       "      <td>39728.00</td>\n",
       "      <td>40551.00</td>\n",
       "      <td>41389.00</td>\n",
       "      <td>42228.00</td>\n",
       "    </tr>\n",
       "    <tr>\n",
       "      <th>1</th>\n",
       "      <td>4</td>\n",
       "      <td>Algeria</td>\n",
       "      <td>2501</td>\n",
       "      <td>Population</td>\n",
       "      <td>5301</td>\n",
       "      <td>Domestic supply quantity</td>\n",
       "      <td>1000 tonnes</td>\n",
       "      <td>0.00</td>\n",
       "      <td>0.00</td>\n",
       "      <td>0.00</td>\n",
       "      <td>0.00</td>\n",
       "      <td>0.00</td>\n",
       "    </tr>\n",
       "    <tr>\n",
       "      <th>2</th>\n",
       "      <td>4</td>\n",
       "      <td>Algeria</td>\n",
       "      <td>2901</td>\n",
       "      <td>Grand Total</td>\n",
       "      <td>664</td>\n",
       "      <td>Food supply (kcal/capita/day)</td>\n",
       "      <td>kcal/capita/day</td>\n",
       "      <td>3377.00</td>\n",
       "      <td>3379.00</td>\n",
       "      <td>3372.00</td>\n",
       "      <td>3341.00</td>\n",
       "      <td>3322.00</td>\n",
       "    </tr>\n",
       "    <tr>\n",
       "      <th>3</th>\n",
       "      <td>4</td>\n",
       "      <td>Algeria</td>\n",
       "      <td>2901</td>\n",
       "      <td>Grand Total</td>\n",
       "      <td>674</td>\n",
       "      <td>Protein supply quantity (g/capita/day)</td>\n",
       "      <td>g/capita/day</td>\n",
       "      <td>94.90</td>\n",
       "      <td>94.35</td>\n",
       "      <td>94.72</td>\n",
       "      <td>92.82</td>\n",
       "      <td>91.83</td>\n",
       "    </tr>\n",
       "    <tr>\n",
       "      <th>4</th>\n",
       "      <td>4</td>\n",
       "      <td>Algeria</td>\n",
       "      <td>2901</td>\n",
       "      <td>Grand Total</td>\n",
       "      <td>684</td>\n",
       "      <td>Fat supply quantity (g/capita/day)</td>\n",
       "      <td>g/capita/day</td>\n",
       "      <td>80.06</td>\n",
       "      <td>79.36</td>\n",
       "      <td>77.40</td>\n",
       "      <td>80.19</td>\n",
       "      <td>77.28</td>\n",
       "    </tr>\n",
       "  </tbody>\n",
       "</table>\n",
       "</div>"
      ],
      "text/plain": [
       "   Area Code     Area  Item Code         Item  Element Code  \\\n",
       "0          4  Algeria       2501   Population           511   \n",
       "1          4  Algeria       2501   Population          5301   \n",
       "2          4  Algeria       2901  Grand Total           664   \n",
       "3          4  Algeria       2901  Grand Total           674   \n",
       "4          4  Algeria       2901  Grand Total           684   \n",
       "\n",
       "                                  Element             Unit     Y2014  \\\n",
       "0           Total Population - Both sexes     1000 persons  38924.00   \n",
       "1                Domestic supply quantity      1000 tonnes      0.00   \n",
       "2           Food supply (kcal/capita/day)  kcal/capita/day   3377.00   \n",
       "3  Protein supply quantity (g/capita/day)     g/capita/day     94.90   \n",
       "4      Fat supply quantity (g/capita/day)     g/capita/day     80.06   \n",
       "\n",
       "      Y2015     Y2016     Y2017     Y2018  \n",
       "0  39728.00  40551.00  41389.00  42228.00  \n",
       "1      0.00      0.00      0.00      0.00  \n",
       "2   3379.00   3372.00   3341.00   3322.00  \n",
       "3     94.35     94.72     92.82     91.83  \n",
       "4     79.36     77.40     80.19     77.28  "
      ]
     },
     "execution_count": 2,
     "metadata": {},
     "output_type": "execute_result"
    }
   ],
   "source": [
    "dataset = 'FoodBalanceSheets_E_Africa_NOFLAG.csv'\n",
    "df = pd.read_csv(dataset, encoding = 'latin-1')\n",
    "df.head()"
   ]
  },
  {
   "cell_type": "code",
   "execution_count": 4,
   "id": "7959334b-e05f-48c7-bece-3e03d98d607a",
   "metadata": {},
   "outputs": [
    {
     "data": {
      "text/plain": [
       "(60943, 12)"
      ]
     },
     "execution_count": 4,
     "metadata": {},
     "output_type": "execute_result"
    }
   ],
   "source": [
    "df.shape"
   ]
  },
  {
   "cell_type": "code",
   "execution_count": 22,
   "id": "a230b0c1-f0e9-48da-ae80-198c0ebff764",
   "metadata": {},
   "outputs": [
    {
     "data": {
      "text/plain": [
       "0"
      ]
     },
     "execution_count": 22,
     "metadata": {},
     "output_type": "execute_result"
    }
   ],
   "source": [
    "df.duplicated().sum()"
   ]
  },
  {
   "cell_type": "code",
   "execution_count": 24,
   "id": "4938f490-72a0-47af-a9cc-ca974ce61992",
   "metadata": {},
   "outputs": [
    {
     "data": {
      "text/plain": [
       "Area Code          0\n",
       "Area               0\n",
       "Item Code          0\n",
       "Item               0\n",
       "Element Code       0\n",
       "Element            0\n",
       "Unit               0\n",
       "Y2014           1589\n",
       "Y2015           1548\n",
       "Y2016           1535\n",
       "Y2017           1506\n",
       "Y2018           1436\n",
       "dtype: int64"
      ]
     },
     "execution_count": 24,
     "metadata": {},
     "output_type": "execute_result"
    }
   ],
   "source": [
    "df.isnull().sum()"
   ]
  },
  {
   "cell_type": "code",
   "execution_count": 6,
   "id": "a44d7f06-d405-4fe5-9e8f-6fd6eeb299a0",
   "metadata": {},
   "outputs": [
    {
     "name": "stdout",
     "output_type": "stream",
     "text": [
      "<class 'pandas.core.frame.DataFrame'>\n",
      "RangeIndex: 60943 entries, 0 to 60942\n",
      "Data columns (total 12 columns):\n",
      " #   Column        Non-Null Count  Dtype  \n",
      "---  ------        --------------  -----  \n",
      " 0   Area Code     60943 non-null  int64  \n",
      " 1   Area          60943 non-null  object \n",
      " 2   Item Code     60943 non-null  int64  \n",
      " 3   Item          60943 non-null  object \n",
      " 4   Element Code  60943 non-null  int64  \n",
      " 5   Element       60943 non-null  object \n",
      " 6   Unit          60943 non-null  object \n",
      " 7   Y2014         59354 non-null  float64\n",
      " 8   Y2015         59395 non-null  float64\n",
      " 9   Y2016         59408 non-null  float64\n",
      " 10  Y2017         59437 non-null  float64\n",
      " 11  Y2018         59507 non-null  float64\n",
      "dtypes: float64(5), int64(3), object(4)\n",
      "memory usage: 5.6+ MB\n"
     ]
    }
   ],
   "source": [
    "df.info()"
   ]
  },
  {
   "cell_type": "code",
   "execution_count": 28,
   "id": "73eb95b5-d3c4-46e1-9bb1-ccca08581f2e",
   "metadata": {},
   "outputs": [
    {
     "name": "stdout",
     "output_type": "stream",
     "text": [
      "['Total Population - Both sexes' 'Domestic supply quantity'\n",
      " 'Food supply (kcal/capita/day)' 'Protein supply quantity (g/capita/day)'\n",
      " 'Fat supply quantity (g/capita/day)' 'Production' 'Import Quantity'\n",
      " 'Stock Variation' 'Export Quantity' 'Feed' 'Seed' 'Losses' 'Processing'\n",
      " 'Other uses (non-food)' 'Residuals' 'Food'\n",
      " 'Food supply quantity (kg/capita/yr)' 'Tourist consumption']\n",
      "Number of unique Elements is 18\n",
      "--------------------------------------------------\n",
      "Number of unique Element Code is 18\n"
     ]
    }
   ],
   "source": [
    "print(df['Element'].unique())\n",
    "print('Number of unique Elements is', df['Element'].nunique())\n",
    "print('-'*50)\n",
    "print('Number of unique Element Code is', df['Element Code'].nunique())"
   ]
  },
  {
   "cell_type": "markdown",
   "id": "984a3136-e9ac-4f73-a561-1f214bccb3a7",
   "metadata": {},
   "source": [
    "#### Perform a groupby operation on ‘Element’.  What year has the highest sum of Stock Variation?"
   ]
  },
  {
   "cell_type": "code",
   "execution_count": 32,
   "id": "65e37db7-a277-485a-9d0b-934305706c9e",
   "metadata": {},
   "outputs": [
    {
     "data": {
      "text/html": [
       "<div>\n",
       "<style scoped>\n",
       "    .dataframe tbody tr th:only-of-type {\n",
       "        vertical-align: middle;\n",
       "    }\n",
       "\n",
       "    .dataframe tbody tr th {\n",
       "        vertical-align: top;\n",
       "    }\n",
       "\n",
       "    .dataframe thead th {\n",
       "        text-align: right;\n",
       "    }\n",
       "</style>\n",
       "<table border=\"1\" class=\"dataframe\">\n",
       "  <thead>\n",
       "    <tr style=\"text-align: right;\">\n",
       "      <th></th>\n",
       "      <th>Element</th>\n",
       "      <th>Y2014</th>\n",
       "      <th>Y2015</th>\n",
       "      <th>Y2016</th>\n",
       "      <th>Y2017</th>\n",
       "      <th>Y2018</th>\n",
       "    </tr>\n",
       "  </thead>\n",
       "  <tbody>\n",
       "    <tr>\n",
       "      <th>0</th>\n",
       "      <td>Domestic supply quantity</td>\n",
       "      <td>1996716.35</td>\n",
       "      <td>2021493.55</td>\n",
       "      <td>2044842.70</td>\n",
       "      <td>2088198.10</td>\n",
       "      <td>2161192.10</td>\n",
       "    </tr>\n",
       "    <tr>\n",
       "      <th>1</th>\n",
       "      <td>Export Quantity</td>\n",
       "      <td>150020.64</td>\n",
       "      <td>157614.47</td>\n",
       "      <td>151920.46</td>\n",
       "      <td>182338.80</td>\n",
       "      <td>181594.80</td>\n",
       "    </tr>\n",
       "    <tr>\n",
       "      <th>2</th>\n",
       "      <td>Fat supply quantity (g/capita/day)</td>\n",
       "      <td>10225.56</td>\n",
       "      <td>10235.74</td>\n",
       "      <td>10102.77</td>\n",
       "      <td>10253.84</td>\n",
       "      <td>10258.69</td>\n",
       "    </tr>\n",
       "    <tr>\n",
       "      <th>3</th>\n",
       "      <td>Feed</td>\n",
       "      <td>216927.89</td>\n",
       "      <td>225050.22</td>\n",
       "      <td>228958.65</td>\n",
       "      <td>223705.68</td>\n",
       "      <td>233489.68</td>\n",
       "    </tr>\n",
       "    <tr>\n",
       "      <th>4</th>\n",
       "      <td>Food</td>\n",
       "      <td>1212332.49</td>\n",
       "      <td>1232361.10</td>\n",
       "      <td>1247022.17</td>\n",
       "      <td>1258888.28</td>\n",
       "      <td>1303841.28</td>\n",
       "    </tr>\n",
       "    <tr>\n",
       "      <th>5</th>\n",
       "      <td>Food supply (kcal/capita/day)</td>\n",
       "      <td>454257.00</td>\n",
       "      <td>453383.00</td>\n",
       "      <td>451810.00</td>\n",
       "      <td>454681.00</td>\n",
       "      <td>455261.00</td>\n",
       "    </tr>\n",
       "    <tr>\n",
       "      <th>6</th>\n",
       "      <td>Food supply quantity (kg/capita/yr)</td>\n",
       "      <td>49650.63</td>\n",
       "      <td>49345.13</td>\n",
       "      <td>48985.28</td>\n",
       "      <td>48690.04</td>\n",
       "      <td>49056.85</td>\n",
       "    </tr>\n",
       "    <tr>\n",
       "      <th>7</th>\n",
       "      <td>Import Quantity</td>\n",
       "      <td>274144.48</td>\n",
       "      <td>267018.46</td>\n",
       "      <td>286582.78</td>\n",
       "      <td>294559.09</td>\n",
       "      <td>287997.09</td>\n",
       "    </tr>\n",
       "    <tr>\n",
       "      <th>8</th>\n",
       "      <td>Losses</td>\n",
       "      <td>153223.00</td>\n",
       "      <td>155439.00</td>\n",
       "      <td>157787.00</td>\n",
       "      <td>160614.00</td>\n",
       "      <td>163902.00</td>\n",
       "    </tr>\n",
       "    <tr>\n",
       "      <th>9</th>\n",
       "      <td>Other uses (non-food)</td>\n",
       "      <td>78718.13</td>\n",
       "      <td>66254.41</td>\n",
       "      <td>69563.68</td>\n",
       "      <td>91645.97</td>\n",
       "      <td>91300.97</td>\n",
       "    </tr>\n",
       "    <tr>\n",
       "      <th>10</th>\n",
       "      <td>Processing</td>\n",
       "      <td>282923.00</td>\n",
       "      <td>287929.00</td>\n",
       "      <td>280631.00</td>\n",
       "      <td>292836.00</td>\n",
       "      <td>308429.00</td>\n",
       "    </tr>\n",
       "    <tr>\n",
       "      <th>11</th>\n",
       "      <td>Production</td>\n",
       "      <td>1931287.75</td>\n",
       "      <td>1947019.39</td>\n",
       "      <td>1943537.15</td>\n",
       "      <td>2030056.89</td>\n",
       "      <td>2075072.89</td>\n",
       "    </tr>\n",
       "    <tr>\n",
       "      <th>12</th>\n",
       "      <td>Protein supply quantity (g/capita/day)</td>\n",
       "      <td>11836.46</td>\n",
       "      <td>11833.95</td>\n",
       "      <td>11779.69</td>\n",
       "      <td>11842.45</td>\n",
       "      <td>11833.56</td>\n",
       "    </tr>\n",
       "    <tr>\n",
       "      <th>13</th>\n",
       "      <td>Residuals</td>\n",
       "      <td>30149.00</td>\n",
       "      <td>30045.00</td>\n",
       "      <td>37224.00</td>\n",
       "      <td>35500.00</td>\n",
       "      <td>34864.00</td>\n",
       "    </tr>\n",
       "    <tr>\n",
       "      <th>14</th>\n",
       "      <td>Seed</td>\n",
       "      <td>21922.92</td>\n",
       "      <td>23976.82</td>\n",
       "      <td>23389.20</td>\n",
       "      <td>24870.14</td>\n",
       "      <td>25263.14</td>\n",
       "    </tr>\n",
       "    <tr>\n",
       "      <th>15</th>\n",
       "      <td>Stock Variation</td>\n",
       "      <td>58749.83</td>\n",
       "      <td>34910.99</td>\n",
       "      <td>33140.12</td>\n",
       "      <td>54316.91</td>\n",
       "      <td>20577.91</td>\n",
       "    </tr>\n",
       "    <tr>\n",
       "      <th>16</th>\n",
       "      <td>Total Population - Both sexes</td>\n",
       "      <td>1031585.00</td>\n",
       "      <td>1058081.00</td>\n",
       "      <td>1085107.00</td>\n",
       "      <td>1112641.00</td>\n",
       "      <td>1140605.00</td>\n",
       "    </tr>\n",
       "    <tr>\n",
       "      <th>17</th>\n",
       "      <td>Tourist consumption</td>\n",
       "      <td>416.00</td>\n",
       "      <td>349.00</td>\n",
       "      <td>89.00</td>\n",
       "      <td>91.00</td>\n",
       "      <td>90.00</td>\n",
       "    </tr>\n",
       "  </tbody>\n",
       "</table>\n",
       "</div>"
      ],
      "text/plain": [
       "                                   Element       Y2014       Y2015  \\\n",
       "0                 Domestic supply quantity  1996716.35  2021493.55   \n",
       "1                          Export Quantity   150020.64   157614.47   \n",
       "2       Fat supply quantity (g/capita/day)    10225.56    10235.74   \n",
       "3                                     Feed   216927.89   225050.22   \n",
       "4                                     Food  1212332.49  1232361.10   \n",
       "5            Food supply (kcal/capita/day)   454257.00   453383.00   \n",
       "6      Food supply quantity (kg/capita/yr)    49650.63    49345.13   \n",
       "7                          Import Quantity   274144.48   267018.46   \n",
       "8                                   Losses   153223.00   155439.00   \n",
       "9                    Other uses (non-food)    78718.13    66254.41   \n",
       "10                              Processing   282923.00   287929.00   \n",
       "11                              Production  1931287.75  1947019.39   \n",
       "12  Protein supply quantity (g/capita/day)    11836.46    11833.95   \n",
       "13                               Residuals    30149.00    30045.00   \n",
       "14                                    Seed    21922.92    23976.82   \n",
       "15                         Stock Variation    58749.83    34910.99   \n",
       "16           Total Population - Both sexes  1031585.00  1058081.00   \n",
       "17                     Tourist consumption      416.00      349.00   \n",
       "\n",
       "         Y2016       Y2017       Y2018  \n",
       "0   2044842.70  2088198.10  2161192.10  \n",
       "1    151920.46   182338.80   181594.80  \n",
       "2     10102.77    10253.84    10258.69  \n",
       "3    228958.65   223705.68   233489.68  \n",
       "4   1247022.17  1258888.28  1303841.28  \n",
       "5    451810.00   454681.00   455261.00  \n",
       "6     48985.28    48690.04    49056.85  \n",
       "7    286582.78   294559.09   287997.09  \n",
       "8    157787.00   160614.00   163902.00  \n",
       "9     69563.68    91645.97    91300.97  \n",
       "10   280631.00   292836.00   308429.00  \n",
       "11  1943537.15  2030056.89  2075072.89  \n",
       "12    11779.69    11842.45    11833.56  \n",
       "13    37224.00    35500.00    34864.00  \n",
       "14    23389.20    24870.14    25263.14  \n",
       "15    33140.12    54316.91    20577.91  \n",
       "16  1085107.00  1112641.00  1140605.00  \n",
       "17       89.00       91.00       90.00  "
      ]
     },
     "execution_count": 32,
     "metadata": {},
     "output_type": "execute_result"
    }
   ],
   "source": [
    "ans = df.groupby('Element')[['Y2014', 'Y2015', 'Y2016', 'Y2017', 'Y2018']].sum().reset_index()\n",
    "ans"
   ]
  },
  {
   "cell_type": "markdown",
   "id": "a4959450-cf9b-4658-aba1-6b9fc0f44df5",
   "metadata": {},
   "source": [
    "#### Which year had the least correlation with ‘Element Code’?"
   ]
  },
  {
   "cell_type": "code",
   "execution_count": 66,
   "id": "43c870ca-1d4f-4b8b-8082-5d3246069fb4",
   "metadata": {},
   "outputs": [
    {
     "data": {
      "text/plain": [
       "0.024456819495221795"
      ]
     },
     "execution_count": 66,
     "metadata": {},
     "output_type": "execute_result"
    }
   ],
   "source": [
    "df['Element Code'].corr(df['Y2014'])"
   ]
  },
  {
   "cell_type": "code",
   "execution_count": 67,
   "id": "434fd04e-3cbb-4712-8d70-977f0e6293cb",
   "metadata": {},
   "outputs": [
    {
     "data": {
      "text/plain": [
       "0.02388919930163992"
      ]
     },
     "execution_count": 67,
     "metadata": {},
     "output_type": "execute_result"
    }
   ],
   "source": [
    "df['Element Code'].corr(df['Y2015'])"
   ]
  },
  {
   "cell_type": "code",
   "execution_count": 68,
   "id": "b5107de2-9762-4d2b-872f-2322c5e7330c",
   "metadata": {},
   "outputs": [
    {
     "data": {
      "text/plain": [
       "0.023443997584961428"
      ]
     },
     "execution_count": 68,
     "metadata": {},
     "output_type": "execute_result"
    }
   ],
   "source": [
    "df['Element Code'].corr(df['Y2016'])"
   ]
  },
  {
   "cell_type": "code",
   "execution_count": 69,
   "id": "8e68f62f-f23a-4a4d-a164-bdbd5b63ebbe",
   "metadata": {},
   "outputs": [
    {
     "data": {
      "text/plain": [
       "0.02425400776004572"
      ]
     },
     "execution_count": 69,
     "metadata": {},
     "output_type": "execute_result"
    }
   ],
   "source": [
    "df['Element Code'].corr(df['Y2017'])"
   ]
  },
  {
   "cell_type": "code",
   "execution_count": 70,
   "id": "a286e110-55f7-4112-9295-ccc4b8cf514c",
   "metadata": {},
   "outputs": [
    {
     "data": {
      "text/plain": [
       "0.02427857195351955"
      ]
     },
     "execution_count": 70,
     "metadata": {},
     "output_type": "execute_result"
    }
   ],
   "source": [
    "df['Element Code'].corr(df['Y2018'])"
   ]
  },
  {
   "cell_type": "markdown",
   "id": "edbc7c9b-05cb-4119-835c-e40209d4bbc1",
   "metadata": {},
   "source": [
    "#### What is the total number of unique countries in the dataset?"
   ]
  },
  {
   "cell_type": "code",
   "execution_count": 38,
   "id": "3702bf87-165f-4f15-8838-ce2543d02a91",
   "metadata": {},
   "outputs": [
    {
     "data": {
      "text/plain": [
       "49"
      ]
     },
     "execution_count": 38,
     "metadata": {},
     "output_type": "execute_result"
    }
   ],
   "source": [
    "df['Area'].nunique()"
   ]
  },
  {
   "cell_type": "markdown",
   "id": "02cf5227-edd2-429d-a5ae-3df83aeb5071",
   "metadata": {},
   "source": [
    "#### Perform a groupby operation on ‘Element’.  What is the total number of the sum of Processing in 2017?"
   ]
  },
  {
   "cell_type": "code",
   "execution_count": 40,
   "id": "c505de4c-5466-4cd9-80e5-a49bf2f817cc",
   "metadata": {},
   "outputs": [
    {
     "data": {
      "text/plain": [
       "Element\n",
       "Domestic supply quantity                  2088198.10\n",
       "Export Quantity                            182338.80\n",
       "Fat supply quantity (g/capita/day)          10253.84\n",
       "Feed                                       223705.68\n",
       "Food                                      1258888.28\n",
       "Food supply (kcal/capita/day)              454681.00\n",
       "Food supply quantity (kg/capita/yr)         48690.04\n",
       "Import Quantity                            294559.09\n",
       "Losses                                     160614.00\n",
       "Other uses (non-food)                       91645.97\n",
       "Processing                                 292836.00\n",
       "Production                                2030056.89\n",
       "Protein supply quantity (g/capita/day)      11842.45\n",
       "Residuals                                   35500.00\n",
       "Seed                                        24870.14\n",
       "Stock Variation                             54316.91\n",
       "Total Population - Both sexes             1112641.00\n",
       "Tourist consumption                            91.00\n",
       "Name: Y2017, dtype: float64"
      ]
     },
     "execution_count": 40,
     "metadata": {},
     "output_type": "execute_result"
    }
   ],
   "source": [
    "df.groupby('Element')['Y2017'].sum()"
   ]
  },
  {
   "cell_type": "markdown",
   "id": "1602cc4c-36cb-432c-b2e6-0711bd724f85",
   "metadata": {},
   "source": [
    "#### What is the total sum of Wine produced in 2015 and 2018 respectively?"
   ]
  },
  {
   "cell_type": "code",
   "execution_count": 43,
   "id": "637a5531-dacf-4ae8-8426-6114d47d8300",
   "metadata": {},
   "outputs": [
    {
     "data": {
      "text/plain": [
       "Item\n",
       "Alcohol, Non-Food        2293.00\n",
       "Alcoholic Beverages     97847.27\n",
       "Animal Products         11578.61\n",
       "Animal fats            269648.27\n",
       "Apples and products      9640.51\n",
       "                         ...    \n",
       "Vegetables, Other      163987.21\n",
       "Vegetal Products       107775.39\n",
       "Wheat and products     242645.19\n",
       "Wine                     4039.32\n",
       "Yams                   221272.09\n",
       "Name: Y2018, Length: 119, dtype: float64"
      ]
     },
     "execution_count": 43,
     "metadata": {},
     "output_type": "execute_result"
    }
   ],
   "source": [
    "print(df.groupby('Item')['Y2015'].sum())\n",
    "print('-' * 50)\n",
    "df.groupby('Item')['Y2018'].sum()"
   ]
  },
  {
   "cell_type": "markdown",
   "id": "86693e1d-dd9c-4be0-9711-a7a6bf93f995",
   "metadata": {},
   "source": [
    "#### What is the total Protein supply quantity in Madagascar in 2015?"
   ]
  },
  {
   "cell_type": "code",
   "execution_count": 54,
   "id": "4b36a1f4-58ae-40d3-a649-d6fee17548fb",
   "metadata": {},
   "outputs": [
    {
     "data": {
      "text/html": [
       "<div>\n",
       "<style scoped>\n",
       "    .dataframe tbody tr th:only-of-type {\n",
       "        vertical-align: middle;\n",
       "    }\n",
       "\n",
       "    .dataframe tbody tr th {\n",
       "        vertical-align: top;\n",
       "    }\n",
       "\n",
       "    .dataframe thead th {\n",
       "        text-align: right;\n",
       "    }\n",
       "</style>\n",
       "<table border=\"1\" class=\"dataframe\">\n",
       "  <thead>\n",
       "    <tr style=\"text-align: right;\">\n",
       "      <th></th>\n",
       "      <th>Area</th>\n",
       "      <th>Element</th>\n",
       "      <th>Y2015</th>\n",
       "    </tr>\n",
       "  </thead>\n",
       "  <tbody>\n",
       "    <tr>\n",
       "      <th>411</th>\n",
       "      <td>Madagascar</td>\n",
       "      <td>Domestic supply quantity</td>\n",
       "      <td>31214.98</td>\n",
       "    </tr>\n",
       "    <tr>\n",
       "      <th>412</th>\n",
       "      <td>Madagascar</td>\n",
       "      <td>Export Quantity</td>\n",
       "      <td>494.75</td>\n",
       "    </tr>\n",
       "    <tr>\n",
       "      <th>413</th>\n",
       "      <td>Madagascar</td>\n",
       "      <td>Fat supply quantity (g/capita/day)</td>\n",
       "      <td>91.85</td>\n",
       "    </tr>\n",
       "    <tr>\n",
       "      <th>414</th>\n",
       "      <td>Madagascar</td>\n",
       "      <td>Feed</td>\n",
       "      <td>2070.22</td>\n",
       "    </tr>\n",
       "    <tr>\n",
       "      <th>415</th>\n",
       "      <td>Madagascar</td>\n",
       "      <td>Food</td>\n",
       "      <td>21120.65</td>\n",
       "    </tr>\n",
       "    <tr>\n",
       "      <th>416</th>\n",
       "      <td>Madagascar</td>\n",
       "      <td>Food supply (kcal/capita/day)</td>\n",
       "      <td>7685.00</td>\n",
       "    </tr>\n",
       "    <tr>\n",
       "      <th>417</th>\n",
       "      <td>Madagascar</td>\n",
       "      <td>Food supply quantity (kg/capita/yr)</td>\n",
       "      <td>871.59</td>\n",
       "    </tr>\n",
       "    <tr>\n",
       "      <th>418</th>\n",
       "      <td>Madagascar</td>\n",
       "      <td>Import Quantity</td>\n",
       "      <td>1721.80</td>\n",
       "    </tr>\n",
       "    <tr>\n",
       "      <th>419</th>\n",
       "      <td>Madagascar</td>\n",
       "      <td>Losses</td>\n",
       "      <td>2176.00</td>\n",
       "    </tr>\n",
       "    <tr>\n",
       "      <th>420</th>\n",
       "      <td>Madagascar</td>\n",
       "      <td>Other uses (non-food)</td>\n",
       "      <td>3957.12</td>\n",
       "    </tr>\n",
       "    <tr>\n",
       "      <th>421</th>\n",
       "      <td>Madagascar</td>\n",
       "      <td>Processing</td>\n",
       "      <td>1803.00</td>\n",
       "    </tr>\n",
       "    <tr>\n",
       "      <th>422</th>\n",
       "      <td>Madagascar</td>\n",
       "      <td>Production</td>\n",
       "      <td>29482.89</td>\n",
       "    </tr>\n",
       "    <tr>\n",
       "      <th>423</th>\n",
       "      <td>Madagascar</td>\n",
       "      <td>Protein supply quantity (g/capita/day)</td>\n",
       "      <td>173.05</td>\n",
       "    </tr>\n",
       "    <tr>\n",
       "      <th>424</th>\n",
       "      <td>Madagascar</td>\n",
       "      <td>Residuals</td>\n",
       "      <td>-616.00</td>\n",
       "    </tr>\n",
       "    <tr>\n",
       "      <th>425</th>\n",
       "      <td>Madagascar</td>\n",
       "      <td>Seed</td>\n",
       "      <td>699.00</td>\n",
       "    </tr>\n",
       "    <tr>\n",
       "      <th>426</th>\n",
       "      <td>Madagascar</td>\n",
       "      <td>Stock Variation</td>\n",
       "      <td>-505.00</td>\n",
       "    </tr>\n",
       "    <tr>\n",
       "      <th>427</th>\n",
       "      <td>Madagascar</td>\n",
       "      <td>Total Population - Both sexes</td>\n",
       "      <td>24234.00</td>\n",
       "    </tr>\n",
       "  </tbody>\n",
       "</table>\n",
       "</div>"
      ],
      "text/plain": [
       "           Area                                 Element     Y2015\n",
       "411  Madagascar                Domestic supply quantity  31214.98\n",
       "412  Madagascar                         Export Quantity    494.75\n",
       "413  Madagascar      Fat supply quantity (g/capita/day)     91.85\n",
       "414  Madagascar                                    Feed   2070.22\n",
       "415  Madagascar                                    Food  21120.65\n",
       "416  Madagascar           Food supply (kcal/capita/day)   7685.00\n",
       "417  Madagascar     Food supply quantity (kg/capita/yr)    871.59\n",
       "418  Madagascar                         Import Quantity   1721.80\n",
       "419  Madagascar                                  Losses   2176.00\n",
       "420  Madagascar                   Other uses (non-food)   3957.12\n",
       "421  Madagascar                              Processing   1803.00\n",
       "422  Madagascar                              Production  29482.89\n",
       "423  Madagascar  Protein supply quantity (g/capita/day)    173.05\n",
       "424  Madagascar                               Residuals   -616.00\n",
       "425  Madagascar                                    Seed    699.00\n",
       "426  Madagascar                         Stock Variation   -505.00\n",
       "427  Madagascar           Total Population - Both sexes  24234.00"
      ]
     },
     "execution_count": 54,
     "metadata": {},
     "output_type": "execute_result"
    }
   ],
   "source": [
    "ans = df.groupby(['Area', 'Element'])['Y2015'].sum().reset_index()\n",
    "ans[ans['Area'] == 'Madagascar']"
   ]
  },
  {
   "cell_type": "markdown",
   "id": "1b07219c-18ac-4c90-91ad-eff4cfddf6ba",
   "metadata": {},
   "source": [
    "#### What is the total number and percentage of missing data in 2014 to 3 decimal places?"
   ]
  },
  {
   "cell_type": "code",
   "execution_count": 55,
   "id": "54e05980-6385-497b-8e24-898f296cbaff",
   "metadata": {},
   "outputs": [
    {
     "data": {
      "text/plain": [
       "1589"
      ]
     },
     "execution_count": 55,
     "metadata": {},
     "output_type": "execute_result"
    }
   ],
   "source": [
    "df['Y2014'].isnull().sum()"
   ]
  },
  {
   "cell_type": "markdown",
   "id": "dd5c7aae-6ca0-43ec-a05c-8cb46b552da6",
   "metadata": {},
   "source": [
    "#### Select columns ‘Y2017’ and ‘Area’, Perform a groupby operation on ‘Area’.  Which of these Areas had the 7th lowest sum in 2017?"
   ]
  },
  {
   "cell_type": "code",
   "execution_count": 58,
   "id": "ac040e6c-a732-4b50-ac07-3326fea731f6",
   "metadata": {},
   "outputs": [
    {
     "data": {
      "text/plain": [
       "Area\n",
       "Sudan (former)               0.00\n",
       "Ethiopia PDR                 0.00\n",
       "Comoros                     59.84\n",
       "Seychelles                 442.34\n",
       "Sao Tome and Principe    12662.63\n",
       "Cabo Verde               14650.74\n",
       "Guinea-Bissau            19102.77\n",
       "Name: Y2017, dtype: float64"
      ]
     },
     "execution_count": 58,
     "metadata": {},
     "output_type": "execute_result"
    }
   ],
   "source": [
    "df.groupby('Area')['Y2017'].sum().sort_values()[:7]"
   ]
  },
  {
   "cell_type": "markdown",
   "id": "dbd6163a-b248-467e-bf71-e2cdaae6f614",
   "metadata": {},
   "source": [
    "#### What is the mean and standard deviation across the whole dataset for the year 2017 to 2 decimal places?"
   ]
  },
  {
   "cell_type": "code",
   "execution_count": 59,
   "id": "45ecdb34-d710-4160-ba6e-71dc1ed7267b",
   "metadata": {},
   "outputs": [
    {
     "data": {
      "text/plain": [
       "count     59437.000000\n",
       "mean        140.917765\n",
       "std        1671.862359\n",
       "min       -1582.000000\n",
       "25%           0.000000\n",
       "50%           0.100000\n",
       "75%           9.000000\n",
       "max      190873.000000\n",
       "Name: Y2017, dtype: float64"
      ]
     },
     "execution_count": 59,
     "metadata": {},
     "output_type": "execute_result"
    }
   ],
   "source": [
    "df['Y2017'].describe()"
   ]
  },
  {
   "cell_type": "markdown",
   "id": "8034cd27-dd93-4cb6-b443-83d54c3950e8",
   "metadata": {},
   "source": [
    "#### Select columns ‘Y2017’ and ‘Area’, Perform a groupby operation on ‘Area’.  Which of these Areas had the highest sum in 2017?"
   ]
  },
  {
   "cell_type": "code",
   "execution_count": 64,
   "id": "88c384dd-cfd5-49dc-bfba-4a2df394fba4",
   "metadata": {},
   "outputs": [
    {
     "data": {
      "text/plain": [
       "Area\n",
       "Nigeria    1483268.23\n",
       "Name: Y2017, dtype: float64"
      ]
     },
     "execution_count": 64,
     "metadata": {},
     "output_type": "execute_result"
    }
   ],
   "source": [
    "df.groupby('Area')['Y2017'].sum().sort_values(ascending = False)[:1]"
   ]
  },
  {
   "cell_type": "code",
   "execution_count": null,
   "id": "6a597eaa-7545-4c10-bfaa-2641bcedce62",
   "metadata": {},
   "outputs": [],
   "source": []
  }
 ],
 "metadata": {
  "kernelspec": {
   "display_name": "Python 3 (ipykernel)",
   "language": "python",
   "name": "python3"
  },
  "language_info": {
   "codemirror_mode": {
    "name": "ipython",
    "version": 3
   },
   "file_extension": ".py",
   "mimetype": "text/x-python",
   "name": "python",
   "nbconvert_exporter": "python",
   "pygments_lexer": "ipython3",
   "version": "3.9.12"
  }
 },
 "nbformat": 4,
 "nbformat_minor": 5
}
